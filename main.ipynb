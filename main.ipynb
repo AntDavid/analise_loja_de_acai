{
 "cells": [
  {
   "cell_type": "code",
   "execution_count": 18,
   "metadata": {},
   "outputs": [],
   "source": [
    "import pandas as pd\n",
    "import os"
   ]
  },
  {
   "cell_type": "code",
   "execution_count": 19,
   "metadata": {},
   "outputs": [],
   "source": [
    "current_directory = os.getcwd()\n",
    "file_directory = os.path.join(current_directory, \"data_base\", \"vendas.xlsx\")\n",
    "data_base = pd.read_excel(file_directory)"
   ]
  },
  {
   "cell_type": "code",
   "execution_count": 20,
   "metadata": {},
   "outputs": [
    {
     "name": "stdout",
     "output_type": "stream",
     "text": [
      "      id_pedido       data    loja          cidade          estado    regiao  \\\n",
      "0       PED1994 2020-01-01  Loja 4          Santos       São Paulo   Sudeste   \n",
      "1       PED2246 2020-01-01  Loja 6   Florianópolis  Santa Catarina       Sul   \n",
      "2       PED3876 2020-01-01  Loja 3  Rio de Janeiro  Rio de Janeiro   Sudeste   \n",
      "3       PED4352 2020-01-01  Loja 1       Fortaleza           Ceará  Nordeste   \n",
      "4       PED8633 2020-01-01  Loja 5       São Paulo       São Paulo   Sudeste   \n",
      "...         ...        ...     ...             ...             ...       ...   \n",
      "69995  PED67084 2022-12-31  Loja 6   Florianópolis  Santa Catarina       Sul   \n",
      "69996  PED67857 2022-12-31  Loja 3  Rio de Janeiro  Rio de Janeiro   Sudeste   \n",
      "69997  PED69171 2022-12-31  Loja 4          Santos       São Paulo   Sudeste   \n",
      "69998  PED69229 2022-12-31  Loja 4          Santos       São Paulo   Sudeste   \n",
      "69999  PED69356 2022-12-31  Loja 1       Fortaleza           Ceará  Nordeste   \n",
      "\n",
      "      tamanho     local_consumo  preco forma_pagamento  ano_mes  \n",
      "0       300ml  Consumo no local      5        Dinheiro  2020-01  \n",
      "1       500ml  Consumo no local     11          Débito  2020-01  \n",
      "2       300ml          Delivery      7         Crédito  2020-01  \n",
      "3      1000ml  Consumo no local      7          Débito  2020-01  \n",
      "4       200ml          Delivery      9         Crédito  2020-01  \n",
      "...       ...               ...    ...             ...      ...  \n",
      "69995   500ml  Consumo no local     11         Crédito  2022-12  \n",
      "69996   200ml  Consumo no local      7             Pix  2022-12  \n",
      "69997   500ml  Consumo no local      5        Dinheiro  2022-12  \n",
      "69998   300ml  Consumo no local      9             Pix  2022-12  \n",
      "69999   300ml          Delivery      9             Pix  2022-12  \n",
      "\n",
      "[70000 rows x 11 columns]\n"
     ]
    }
   ],
   "source": [
    "print(data_base)"
   ]
  }
 ],
 "metadata": {
  "kernelspec": {
   "display_name": "venv",
   "language": "python",
   "name": "python3"
  },
  "language_info": {
   "codemirror_mode": {
    "name": "ipython",
    "version": 3
   },
   "file_extension": ".py",
   "mimetype": "text/x-python",
   "name": "python",
   "nbconvert_exporter": "python",
   "pygments_lexer": "ipython3",
   "version": "3.12.0"
  }
 },
 "nbformat": 4,
 "nbformat_minor": 2
}
